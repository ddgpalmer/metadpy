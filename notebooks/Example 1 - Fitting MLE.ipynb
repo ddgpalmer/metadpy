{
 "cells": [
  {
   "cell_type": "markdown",
   "id": "excess-testimony",
   "metadata": {},
   "source": [
    "Author: Nicolas Legrand <nicolas.legrand@cfin.au.dk>"
   ]
  },
  {
   "cell_type": "code",
   "execution_count": 9,
   "id": "canadian-treatment",
   "metadata": {},
   "outputs": [],
   "source": [
    "import numpy as np\n",
    "from metadPy.sdt import metad\n",
    "\n",
    "%load_ext snakeviz"
   ]
  },
  {
   "cell_type": "markdown",
   "id": "infectious-offset",
   "metadata": {},
   "source": [
    "# Fitting at the subject level"
   ]
  },
  {
   "cell_type": "markdown",
   "id": "mineral-stanley",
   "metadata": {},
   "source": [
    "## From response-signal arrays"
   ]
  },
  {
   "cell_type": "code",
   "execution_count": 3,
   "id": "enabling-marriage",
   "metadata": {},
   "outputs": [],
   "source": [
    "# Create responses data\n",
    "nR_S1 = np.array([52, 32, 35, 37, 26, 12, 4, 2])\n",
    "nR_S2 = np.array([2, 5, 15, 22, 33, 38, 40, 45])"
   ]
  },
  {
   "cell_type": "code",
   "execution_count": 10,
   "id": "atomic-characteristic",
   "metadata": {},
   "outputs": [
    {
     "name": "stdout",
     "output_type": "stream",
     "text": [
      "`xtol` termination condition is satisfied.\n",
      "Number of iterations: 145, function evaluations: 1880, CG iterations: 275, optimality: 5.22e-06, constraint violation: 0.00e+00, execution time: 2.6e+01 s.\n",
      " \n",
      "*** Profile stats marshalled to file 'C:\\\\Users\\\\au646069\\\\AppData\\\\Local\\\\Temp\\\\tmpj82oj1jl'. \n",
      "Embedding SnakeViz in this document...\n"
     ]
    },
    {
     "data": {
      "text/html": [
       "\n",
       "<iframe id='snakeviz-e1038540-e62c-11eb-9ae2-d0c637640ced' frameborder=0 seamless width='100%' height='1000'></iframe>\n",
       "<script>document.getElementById(\"snakeviz-e1038540-e62c-11eb-9ae2-d0c637640ced\").setAttribute(\"src\", \"http://\" + document.location.hostname + \":8080/snakeviz/C%3A%5CUsers%5Cau646069%5CAppData%5CLocal%5CTemp%5Ctmpj82oj1jl\")</script>\n"
      ],
      "text/plain": [
       "<IPython.core.display.HTML object>"
      ]
     },
     "metadata": {},
     "output_type": "display_data"
    }
   ],
   "source": [
    "%%snakeviz\n",
    "output = metad(nR_S1=nR_S1, nR_S2=nR_S2)"
   ]
  },
  {
   "cell_type": "markdown",
   "id": "constant-grounds",
   "metadata": {},
   "source": [
    "## From a dataframe"
   ]
  },
  {
   "cell_type": "code",
   "execution_count": null,
   "id": "designing-newfoundland",
   "metadata": {},
   "outputs": [],
   "source": []
  },
  {
   "cell_type": "markdown",
   "id": "damaged-thailand",
   "metadata": {},
   "source": [
    "# Fitting at the group level"
   ]
  },
  {
   "cell_type": "markdown",
   "id": "preceding-recruitment",
   "metadata": {},
   "source": [
    "## Using a list of response-signal arrays"
   ]
  },
  {
   "cell_type": "code",
   "execution_count": null,
   "id": "isolated-permission",
   "metadata": {},
   "outputs": [],
   "source": []
  },
  {
   "cell_type": "markdown",
   "id": "alpha-tunisia",
   "metadata": {},
   "source": [
    "## Using a dataframe"
   ]
  },
  {
   "cell_type": "code",
   "execution_count": null,
   "id": "monthly-principle",
   "metadata": {},
   "outputs": [],
   "source": []
  }
 ],
 "metadata": {
  "kernelspec": {
   "display_name": "Python 3",
   "language": "python",
   "name": "python3"
  },
  "language_info": {
   "codemirror_mode": {
    "name": "ipython",
    "version": 3
   },
   "file_extension": ".py",
   "mimetype": "text/x-python",
   "name": "python",
   "nbconvert_exporter": "python",
   "pygments_lexer": "ipython3",
   "version": "3.7.9"
  }
 },
 "nbformat": 4,
 "nbformat_minor": 5
}
