{
 "cells": [
  {
   "cell_type": "markdown",
   "id": "copyrighted-border",
   "metadata": {},
   "source": [
    "Author: Nicolas Legrand <nicolas.legrand@cfin.au.dk>"
   ]
  },
  {
   "cell_type": "code",
   "execution_count": null,
   "id": "banner-contents",
   "metadata": {},
   "outputs": [],
   "source": [
    "%%capture\n",
    "! pip install git+https://github.com/LegrandNico/metadPy.git"
   ]
  },
  {
   "cell_type": "code",
   "execution_count": 1,
   "id": "unavailable-groove",
   "metadata": {},
   "outputs": [],
   "source": [
    "import numpy as np\n",
    "import pandas as pd\n",
    "from metadPy.mle import metad\n",
    "from metadPy import load_dataset\n",
    "import seaborn as sns\n",
    "import matplotlib.pyplot as plt"
   ]
  },
  {
   "cell_type": "markdown",
   "id": "unable-tattoo",
   "metadata": {},
   "source": [
    "# Fitting at the subject level"
   ]
  },
  {
   "cell_type": "markdown",
   "id": "current-valuation",
   "metadata": {},
   "source": [
    "## From response-signal arrays"
   ]
  },
  {
   "cell_type": "code",
   "execution_count": 2,
   "id": "controversial-executive",
   "metadata": {},
   "outputs": [],
   "source": [
    "# Create responses data\n",
    "nR_S1 = np.array([52, 32, 35, 37, 26, 12, 4, 2])\n",
    "nR_S2 = np.array([2, 5, 15, 22, 33, 38, 40, 45])"
   ]
  },
  {
   "cell_type": "code",
   "execution_count": 3,
   "id": "experienced-ottawa",
   "metadata": {},
   "outputs": [
    {
     "name": "stderr",
     "output_type": "stream",
     "text": [
      "Fitting model on subject: Subject 1:   0%|                                                       | 0/1 [00:00<?, ?it/s]"
     ]
    },
    {
     "name": "stdout",
     "output_type": "stream",
     "text": [
      "Estimate meta-d' using maximum likelihood estimation (MLE).\n",
      "- n Subjects: 1\n",
      "- n Conditions: 1\n",
      "- n Groups: 1\n",
      "... Using padding to avoid fitting errors.\n"
     ]
    },
    {
     "name": "stderr",
     "output_type": "stream",
     "text": [
      "Fitting model on subject: Subject 1: 100%|███████████████████████████████████████████████| 1/1 [00:01<00:00,  1.60s/it]\n"
     ]
    }
   ],
   "source": [
    "output = metad(nR_S1=nR_S1, nR_S2=nR_S2)"
   ]
  },
  {
   "cell_type": "markdown",
   "id": "recognized-testament",
   "metadata": {},
   "source": [
    "## From a dataframe"
   ]
  },
  {
   "cell_type": "code",
   "execution_count": 4,
   "id": "cloudy-possession",
   "metadata": {},
   "outputs": [],
   "source": [
    "df = load_dataset(\"rm\")"
   ]
  },
  {
   "cell_type": "code",
   "execution_count": 5,
   "id": "fuzzy-minutes",
   "metadata": {},
   "outputs": [
    {
     "name": "stderr",
     "output_type": "stream",
     "text": [
      "Fitting model on subject: Subject 1:   0%|                                                       | 0/1 [00:00<?, ?it/s]"
     ]
    },
    {
     "name": "stdout",
     "output_type": "stream",
     "text": [
      "Estimate meta-d' using maximum likelihood estimation (MLE).\n",
      "- n Subjects: 1\n",
      "- n Conditions: 1\n",
      "- n Groups: 1\n",
      "... Using padding to avoid fitting errors.\n"
     ]
    },
    {
     "name": "stderr",
     "output_type": "stream",
     "text": [
      "Fitting model on subject: Subject 1: 100%|███████████████████████████████████████████████| 1/1 [00:00<00:00,  4.23it/s]\n"
     ]
    }
   ],
   "source": [
    "output = metad(nR_S1=nR_S1, nR_S2=nR_S2)"
   ]
  },
  {
   "cell_type": "markdown",
   "id": "corporate-arbitration",
   "metadata": {},
   "source": [
    "# Fitting at the group level"
   ]
  },
  {
   "cell_type": "markdown",
   "id": "typical-brunei",
   "metadata": {},
   "source": [
    "## Using a list of response-signal arrays"
   ]
  },
  {
   "cell_type": "markdown",
   "id": "cutting-carbon",
   "metadata": {},
   "source": [
    "## Using a dataframe"
   ]
  },
  {
   "cell_type": "code",
   "execution_count": 6,
   "id": "alien-vocabulary",
   "metadata": {},
   "outputs": [
    {
     "data": {
      "text/html": [
       "<div>\n",
       "<style scoped>\n",
       "    .dataframe tbody tr th:only-of-type {\n",
       "        vertical-align: middle;\n",
       "    }\n",
       "\n",
       "    .dataframe tbody tr th {\n",
       "        vertical-align: top;\n",
       "    }\n",
       "\n",
       "    .dataframe thead th {\n",
       "        text-align: right;\n",
       "    }\n",
       "</style>\n",
       "<table border=\"1\" class=\"dataframe\">\n",
       "  <thead>\n",
       "    <tr style=\"text-align: right;\">\n",
       "      <th></th>\n",
       "      <th>subject</th>\n",
       "      <th>modality</th>\n",
       "      <th>trial</th>\n",
       "      <th>signal</th>\n",
       "      <th>response</th>\n",
       "      <th>accuracy</th>\n",
       "      <th>confidence</th>\n",
       "      <th>rt</th>\n",
       "      <th>rt_conf</th>\n",
       "      <th>contrast</th>\n",
       "    </tr>\n",
       "  </thead>\n",
       "  <tbody>\n",
       "    <tr>\n",
       "      <th>0</th>\n",
       "      <td>1</td>\n",
       "      <td>memory</td>\n",
       "      <td>1</td>\n",
       "      <td>0.0</td>\n",
       "      <td>0.0</td>\n",
       "      <td>1</td>\n",
       "      <td>6.0</td>\n",
       "      <td>1.829698</td>\n",
       "      <td>2.685213</td>\n",
       "      <td>30.0</td>\n",
       "    </tr>\n",
       "    <tr>\n",
       "      <th>1</th>\n",
       "      <td>1</td>\n",
       "      <td>memory</td>\n",
       "      <td>2</td>\n",
       "      <td>1.0</td>\n",
       "      <td>1.0</td>\n",
       "      <td>1</td>\n",
       "      <td>4.0</td>\n",
       "      <td>4.080196</td>\n",
       "      <td>2.137347</td>\n",
       "      <td>30.0</td>\n",
       "    </tr>\n",
       "    <tr>\n",
       "      <th>2</th>\n",
       "      <td>1</td>\n",
       "      <td>memory</td>\n",
       "      <td>3</td>\n",
       "      <td>0.0</td>\n",
       "      <td>0.0</td>\n",
       "      <td>1</td>\n",
       "      <td>4.0</td>\n",
       "      <td>2.303110</td>\n",
       "      <td>2.801801</td>\n",
       "      <td>30.0</td>\n",
       "    </tr>\n",
       "    <tr>\n",
       "      <th>3</th>\n",
       "      <td>1</td>\n",
       "      <td>memory</td>\n",
       "      <td>4</td>\n",
       "      <td>0.0</td>\n",
       "      <td>0.0</td>\n",
       "      <td>1</td>\n",
       "      <td>5.0</td>\n",
       "      <td>2.715602</td>\n",
       "      <td>0.886483</td>\n",
       "      <td>30.0</td>\n",
       "    </tr>\n",
       "    <tr>\n",
       "      <th>4</th>\n",
       "      <td>1</td>\n",
       "      <td>memory</td>\n",
       "      <td>5</td>\n",
       "      <td>1.0</td>\n",
       "      <td>0.0</td>\n",
       "      <td>0</td>\n",
       "      <td>3.0</td>\n",
       "      <td>3.419934</td>\n",
       "      <td>1.665131</td>\n",
       "      <td>30.0</td>\n",
       "    </tr>\n",
       "  </tbody>\n",
       "</table>\n",
       "</div>"
      ],
      "text/plain": [
       "   subject modality  trial  signal  response  accuracy  confidence        rt  \\\n",
       "0        1   memory      1     0.0       0.0         1         6.0  1.829698   \n",
       "1        1   memory      2     1.0       1.0         1         4.0  4.080196   \n",
       "2        1   memory      3     0.0       0.0         1         4.0  2.303110   \n",
       "3        1   memory      4     0.0       0.0         1         5.0  2.715602   \n",
       "4        1   memory      5     1.0       0.0         0         3.0  3.419934   \n",
       "\n",
       "    rt_conf  contrast  \n",
       "0  2.685213      30.0  \n",
       "1  2.137347      30.0  \n",
       "2  2.801801      30.0  \n",
       "3  0.886483      30.0  \n",
       "4  1.665131      30.0  "
      ]
     },
     "execution_count": 6,
     "metadata": {},
     "output_type": "execute_result"
    }
   ],
   "source": [
    "metacog_df = pd.read_csv(\"C:/Users/au646069/Downloads/metacognition_TrialData_master.csv\")\n",
    "metacog_df.head()"
   ]
  },
  {
   "cell_type": "code",
   "execution_count": 8,
   "id": "unable-albany",
   "metadata": {},
   "outputs": [
    {
     "data": {
      "text/plain": [
       "array([0., 1.])"
      ]
     },
     "execution_count": 8,
     "metadata": {},
     "output_type": "execute_result"
    }
   ],
   "source": [
    "metacog_df = metacog_df[~metacog_df.confidence.isnull()]\n",
    "metacog_df = metacog_df[~metacog_df.signal.isnull()]\n",
    "metacog_df = metacog_df[~metacog_df.accuracy.isnull()]\n",
    "metacog_df = metacog_df[~metacog_df.modality.isnull()]\n",
    "\n",
    "metacog_df.signal.unique()"
   ]
  },
  {
   "cell_type": "code",
   "execution_count": 21,
   "id": "narrow-private",
   "metadata": {},
   "outputs": [
    {
     "name": "stderr",
     "output_type": "stream",
     "text": [
      "Fitting model on subject: 1:   0%|                                                             | 0/322 [00:00<?, ?it/s]"
     ]
    },
    {
     "name": "stdout",
     "output_type": "stream",
     "text": [
      "Estimate meta-d' using maximum likelihood estimation (MLE).\n",
      "- n Subjects: 322\n",
      "- n Conditions: 4\n",
      "- n Groups: 1\n",
      "... Using padding to avoid fitting errors.\n"
     ]
    },
    {
     "name": "stderr",
     "output_type": "stream",
     "text": [
      "Fitting model on subject: 131:  39%|███████████████████▏                             | 126/322 [09:17<13:34,  4.15s/it]C:\\ProgramData\\Anaconda3\\lib\\site-packages\\metadPy\\mle.py:723: RuntimeWarning: divide by zero encountered in double_scalars\n",
      "  guess.extend(list(t2c1 - (meta_d1 * (t1c1 / d1))))\n",
      "C:\\ProgramData\\Anaconda3\\lib\\site-packages\\metadPy\\mle.py:723: RuntimeWarning: invalid value encountered in double_scalars\n",
      "  guess.extend(list(t2c1 - (meta_d1 * (t1c1 / d1))))\n",
      "C:\\ProgramData\\Anaconda3\\lib\\site-packages\\metadPy\\mle.py:557: UserWarning: Error when fitting data for subject 131 - Condition memory - Group Group 1. Returning NaNs as a result\n",
      "  f\"Error when fitting data for subject {str(sub)} - Condition {str(cond)} - Group {str(group)}. Returning NaNs as a result\"\n",
      "Fitting model on subject: 217:  66%|████████████████████████████████                 | 211/322 [15:33<09:33,  5.17s/it]C:\\ProgramData\\Anaconda3\\lib\\site-packages\\metadPy\\mle.py:557: UserWarning: Error when fitting data for subject 217 - Condition memory - Group Group 1. Returning NaNs as a result\n",
      "  f\"Error when fitting data for subject {str(sub)} - Condition {str(cond)} - Group {str(group)}. Returning NaNs as a result\"\n",
      "Fitting model on subject: 330: 100%|█████████████████████████████████████████████████| 322/322 [24:01<00:00,  4.48s/it]\n"
     ]
    }
   ],
   "source": [
    "group_fit = metad(\n",
    "    data=metacog_df,\n",
    "    nRatings=7,\n",
    "    stimuli=\"signal\",\n",
    "    accuracy=\"accuracy\",\n",
    "    confidence=\"confidence\",\n",
    "    subject=\"subject\",\n",
    "    padding=True,\n",
    "    within=\"modality\"\n",
    ")"
   ]
  },
  {
   "cell_type": "code",
   "execution_count": 22,
   "id": "final-treasury",
   "metadata": {},
   "outputs": [
    {
     "data": {
      "text/html": [
       "<div>\n",
       "<style scoped>\n",
       "    .dataframe tbody tr th:only-of-type {\n",
       "        vertical-align: middle;\n",
       "    }\n",
       "\n",
       "    .dataframe tbody tr th {\n",
       "        vertical-align: top;\n",
       "    }\n",
       "\n",
       "    .dataframe thead th {\n",
       "        text-align: right;\n",
       "    }\n",
       "</style>\n",
       "<table border=\"1\" class=\"dataframe\">\n",
       "  <thead>\n",
       "    <tr style=\"text-align: right;\">\n",
       "      <th></th>\n",
       "      <th>dprime</th>\n",
       "      <th>metad</th>\n",
       "      <th>m_ratio</th>\n",
       "      <th>m_diff</th>\n",
       "      <th>subject</th>\n",
       "      <th>modality</th>\n",
       "    </tr>\n",
       "  </thead>\n",
       "  <tbody>\n",
       "    <tr>\n",
       "      <th>0</th>\n",
       "      <td>2.337905</td>\n",
       "      <td>2.447509</td>\n",
       "      <td>1.046881</td>\n",
       "      <td>0.109604</td>\n",
       "      <td>1</td>\n",
       "      <td>memory</td>\n",
       "    </tr>\n",
       "    <tr>\n",
       "      <th>0</th>\n",
       "      <td>1.140187</td>\n",
       "      <td>0.989047</td>\n",
       "      <td>0.867443</td>\n",
       "      <td>-0.151140</td>\n",
       "      <td>1</td>\n",
       "      <td>Calories</td>\n",
       "    </tr>\n",
       "    <tr>\n",
       "      <th>0</th>\n",
       "      <td>1.065441</td>\n",
       "      <td>1.649217</td>\n",
       "      <td>1.547920</td>\n",
       "      <td>0.583776</td>\n",
       "      <td>1</td>\n",
       "      <td>GDP</td>\n",
       "    </tr>\n",
       "    <tr>\n",
       "      <th>0</th>\n",
       "      <td>1.185403</td>\n",
       "      <td>0.876886</td>\n",
       "      <td>0.739737</td>\n",
       "      <td>-0.308517</td>\n",
       "      <td>1</td>\n",
       "      <td>vision</td>\n",
       "    </tr>\n",
       "    <tr>\n",
       "      <th>0</th>\n",
       "      <td>1.487794</td>\n",
       "      <td>1.066200</td>\n",
       "      <td>0.716631</td>\n",
       "      <td>-0.421594</td>\n",
       "      <td>2</td>\n",
       "      <td>memory</td>\n",
       "    </tr>\n",
       "  </tbody>\n",
       "</table>\n",
       "</div>"
      ],
      "text/plain": [
       "     dprime     metad   m_ratio    m_diff  subject  modality\n",
       "0  2.337905  2.447509  1.046881  0.109604        1    memory\n",
       "0  1.140187  0.989047  0.867443 -0.151140        1  Calories\n",
       "0  1.065441  1.649217  1.547920  0.583776        1       GDP\n",
       "0  1.185403  0.876886  0.739737 -0.308517        1    vision\n",
       "0  1.487794  1.066200  0.716631 -0.421594        2    memory"
      ]
     },
     "execution_count": 22,
     "metadata": {},
     "output_type": "execute_result"
    }
   ],
   "source": [
    "group_fit.head()"
   ]
  },
  {
   "cell_type": "code",
   "execution_count": 24,
   "id": "passive-entity",
   "metadata": {},
   "outputs": [
    {
     "data": {
      "image/png": "[encoded data removed]",
      "text/plain": [
       "<Figure size 864x576 with 4 Axes>"
      ]
     },
     "metadata": {
      "needs_background": "light"
     },
     "output_type": "display_data"
    }
   ],
   "source": [
    "sns.set_context(\"talk\")\n",
    "\n",
    "_, axs = plt.subplots(2, 2, figsize=(12, 8), sharex=True)\n",
    "\n",
    "sns.boxplot(data=group_fit, x=\"modality\", y=\"dprime\", ax=axs[0, 0])\n",
    "#sns.stripplot(data=group_fit, x=\"modality\", y=\"dprime\", color=\"k\", ax=axs[0, 0])\n",
    "\n",
    "sns.boxplot(data=group_fit, x=\"modality\", y=\"metad\", ax=axs[0, 1])\n",
    "sns.boxplot(data=group_fit, x=\"modality\", y=\"m_ratio\", ax=axs[1, 0])\n",
    "sns.boxplot(data=group_fit, x=\"modality\", y=\"m_diff\", ax=axs[1, 1])\n",
    "\n",
    "plt.tight_layout()\n",
    "sns.despine()"
   ]
  },
  {
   "cell_type": "code",
   "execution_count": 38,
   "id": "electrical-restaurant",
   "metadata": {},
   "outputs": [
    {
     "data": {
      "image/png": "[encoded data removed]",
      "text/plain": [
       "<Figure size 432x432 with 3 Axes>"
      ]
     },
     "metadata": {
      "needs_background": "light"
     },
     "output_type": "display_data"
    }
   ],
   "source": [
    "g = sns.jointplot(x=\"dprime\", y=\"metad\", data=group_fit,\n",
    "                  kind=\"reg\")"
   ]
  },
  {
   "cell_type": "code",
   "execution_count": null,
   "id": "preliminary-grocery",
   "metadata": {},
   "outputs": [],
   "source": []
  }
 ],
 "metadata": {
  "kernelspec": {
   "display_name": "Python 3",
   "language": "python",
   "name": "python3"
  },
  "language_info": {
   "codemirror_mode": {
    "name": "ipython",
    "version": 3
   },
   "file_extension": ".py",
   "mimetype": "text/x-python",
   "name": "python",
   "nbconvert_exporter": "python",
   "pygments_lexer": "ipython3",
   "version": "3.7.9"
  }
 },
 "nbformat": 4,
 "nbformat_minor": 5
}
